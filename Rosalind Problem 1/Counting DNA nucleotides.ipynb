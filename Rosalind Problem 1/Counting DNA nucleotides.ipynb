{
 "cells": [
  {
   "cell_type": "code",
   "execution_count": 2,
   "id": "61c02c70-7e27-4509-b739-990395911b44",
   "metadata": {},
   "outputs": [
    {
     "name": "stdout",
     "output_type": "stream",
     "text": [
      "ATAATTGCCAAATGTCCTTGTTTGACAGTCCCAAGGTGTTGCACCGGGACGCCTTAGTTGCTGCTTCCCGACGATGGGATACGTTGAACCAAGTGCGTTCCCAGTCCGGTGATCTGACTCCCAGATAGATCATCACCGGCGCAAACTGGAAGCATATGCCTACTTCTACTAGATAAACGAACGCCCATGGGCGATCACACTGATTCTCGCTGTCCATAGAGGTATCAACCAGAAACGAAGTAGTTCGGGTGAACGAAGACTAGACGACAGGGTATACTCAGAATCACTTGTCCAGCCGCGGGAGTGTCAAGGCGCGACTATCCCGACGAATCTGAAACCCTTATACCTATTCAATTTAAGCTACGGCCAGGTATCCGGTCTTCCCAGTCCTCGTCTAGCTAGCACTCTCTTTACGCGAAGTTAGAACTGTGAGAAGAACATGTTCGTTAACCGCTTCTGTTCGTGTCCGCGGGAGCGGTCTTAGTTTCGTCTACCGTTATACCATGTTGAAACTCCCCGGATGACAAGTGTCCATACCGTCGACGCCATGGTGAAACACGCTTTCAGAGGTATTCTCTAAGCCTACCTAACGTATTAGATAGCCAGTCGACGATAAAGACCCCTGCTCCGCTTGGTTGGCCATTCTTTTAACAGGAAGACCAGAGGAAAAATCTTACGCTCGCAGTCCCGAGATGCGAGTACGGCGATATGGTCCACAAAGCGGTGCGCGCTTAGCTAATCATGCATCGAGGGGTATTTGTAATTTGTCCAGTACAGGAGGCTCTTCCCATTCGTACC\n"
     ]
    }
   ],
   "source": [
    "# open the Sequence text file and extract data from it.\n",
    "with open(\"DNA Sequence1.txt\") as Data_Sequence:\n",
    "    Data = Data_Sequence.readline().strip()\n",
    "print(Data)"
   ]
  },
  {
   "cell_type": "code",
   "execution_count": 3,
   "id": "a1727563-8b41-4b2a-bb84-6a9d767ada73",
   "metadata": {},
   "outputs": [],
   "source": [
    "# counting the number of evey nucleotide in DNA sequence\n",
    "def count_nuc(DNA_seq):\n",
    "    Nucleotide_counts = dict(A = 0, C = 0, G = 0, T = 0)\n",
    "    for nuc in DNA_seq:\n",
    "        Nucleotide_counts[nuc] += 1\n",
    "    return Nucleotide_counts"
   ]
  },
  {
   "cell_type": "code",
   "execution_count": 4,
   "id": "b0328db9-8be6-4c22-9b84-33d3d02c8edf",
   "metadata": {},
   "outputs": [
    {
     "name": "stdout",
     "output_type": "stream",
     "text": [
      "A: 200\n",
      "C: 210\n",
      "G: 190\n",
      "T: 198\n"
     ]
    }
   ],
   "source": [
    "# print nucleotides counts in the sequence of interest\n",
    "nuc_counts = count_nuc(Data)\n",
    "for nuc_type in nuc_counts.keys():\n",
    "    print(nuc_type, \": \", nuc_counts[nuc_type], sep=\"\")"
   ]
  },
  {
   "cell_type": "code",
   "execution_count": null,
   "id": "a942e54e-9313-4693-ab10-ef83c1f50a70",
   "metadata": {},
   "outputs": [],
   "source": []
  },
  {
   "cell_type": "code",
   "execution_count": null,
   "id": "e8e5a66f-5590-4a63-86b2-fab98d433864",
   "metadata": {},
   "outputs": [],
   "source": []
  }
 ],
 "metadata": {
  "kernelspec": {
   "display_name": "Python 3 (ipykernel)",
   "language": "python",
   "name": "python3"
  },
  "language_info": {
   "codemirror_mode": {
    "name": "ipython",
    "version": 3
   },
   "file_extension": ".py",
   "mimetype": "text/x-python",
   "name": "python",
   "nbconvert_exporter": "python",
   "pygments_lexer": "ipython3",
   "version": "3.11.7"
  }
 },
 "nbformat": 4,
 "nbformat_minor": 5
}
