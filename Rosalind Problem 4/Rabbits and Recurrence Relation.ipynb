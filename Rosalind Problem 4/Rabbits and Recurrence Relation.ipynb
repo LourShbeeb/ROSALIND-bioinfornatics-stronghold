{
 "cells": [
  {
   "cell_type": "code",
   "execution_count": 1,
   "id": "312e0152-b4b0-4e1a-abd2-9bca723c5b17",
   "metadata": {},
   "outputs": [
    {
     "name": "stdout",
     "output_type": "stream",
     "text": [
      "6 4\n"
     ]
    }
   ],
   "source": [
    "# open the .txt file and extract data from it.\n",
    "with open(\"FIB.txt\") as Data_file:\n",
    "    Data = list(map(int, Data_file.readline().strip().split(\" \")))\n",
    "n = int(Data[0])  # n is the number of months\n",
    "k = int(Data[1])  # k is the number of rabbit pairs produced by each rabbit pair\n",
    "print(n, k)"
   ]
  },
  {
   "cell_type": "code",
   "execution_count": 3,
   "id": "445deaa8-516a-405d-b4b6-d075ac969a8c",
   "metadata": {},
   "outputs": [
    {
     "name": "stdout",
     "output_type": "stream",
     "text": [
      "The total number of rabbit pairs after n months is: 65\n"
     ]
    }
   ],
   "source": [
    "# calculate the total number of rabbit pairs after n months\n",
    "def rabbit_pairs(n, k):\n",
    "    if n == 1 or n == 2:\n",
    "        return 1\n",
    "    else:\n",
    "        F = [0]*(n+1)\n",
    "        F[1] = 1\n",
    "        F[2] = 1\n",
    "        for i in range(3, n+1):\n",
    "            F[i] = F[i-1] + k*F[i-2]\n",
    "        return F[n]\n",
    "\n",
    "print(\"The total number of rabbit pairs after n months is:\",rabbit_pairs(n, k))"
   ]
  },
  {
   "cell_type": "code",
   "execution_count": 4,
   "id": "76306817-734e-4145-82e2-5815488c2faf",
   "metadata": {},
   "outputs": [],
   "source": [
    "#Another Way\n",
    "# calculate the total number of rabbit pairs after n months\n",
    "def FIB_rabbit(n, k):\n",
    "    num_of_pairs_per_month = [1, 1]\n",
    "    for month in range(n - 2):\n",
    "        num_of_pairs_per_month.append(num_of_pairs_per_month[month + 1] + k * num_of_pairs_per_month[month])\n",
    "        # we care about the total number of rabbit pairs (last number in the list)\n",
    "    return num_of_pairs_per_month[-1]  "
   ]
  },
  {
   "cell_type": "code",
   "execution_count": 5,
   "id": "1b5d12e1-cd23-40fd-b041-3b90b2df20f5",
   "metadata": {},
   "outputs": [
    {
     "name": "stdout",
     "output_type": "stream",
     "text": [
      "The total number of rabbit pairs after n months is: 65\n"
     ]
    }
   ],
   "source": [
    "print(\"The total number of rabbit pairs after n months is:\", FIB_rabbit(n, k))"
   ]
  },
  {
   "cell_type": "code",
   "execution_count": null,
   "id": "18860806-3039-4f4d-a7fc-4f391b575016",
   "metadata": {},
   "outputs": [],
   "source": []
  }
 ],
 "metadata": {
  "kernelspec": {
   "display_name": "Python 3 (ipykernel)",
   "language": "python",
   "name": "python3"
  },
  "language_info": {
   "codemirror_mode": {
    "name": "ipython",
    "version": 3
   },
   "file_extension": ".py",
   "mimetype": "text/x-python",
   "name": "python",
   "nbconvert_exporter": "python",
   "pygments_lexer": "ipython3",
   "version": "3.11.7"
  }
 },
 "nbformat": 4,
 "nbformat_minor": 5
}
