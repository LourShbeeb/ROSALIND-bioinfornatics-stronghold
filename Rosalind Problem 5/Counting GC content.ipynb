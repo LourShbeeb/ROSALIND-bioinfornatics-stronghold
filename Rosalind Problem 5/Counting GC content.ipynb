{
 "cells": [
  {
   "cell_type": "code",
   "execution_count": 12,
   "id": "0cfdbb98-3102-442c-a236-0054e40f8bbc",
   "metadata": {},
   "outputs": [
    {
     "name": "stdout",
     "output_type": "stream",
     "text": [
      "['>Rosalind_6404\\n', 'CCTGCGGAAGATCGGCACTAGAATAGCCAGAACCGTTTCTCTGAGGCTTCCGGCCTTCCC\\n', 'TCCCACTAATAATTCTGAGG\\n', '>Rosalind_5959\\n', 'CCATCGGTAGCGCATCCTTAGTCCAATTAAGTCCCTATCCAGGCGCTCCGCCGAAGGTCT\\n', 'ATATCCATTTGTCAGCAGACACGC\\n', '>Rosalind_0808\\n', 'CCACCCTCGTGGTATGGCTAGGCATTCAGGAACCGGAGAACGCTTCAGACCAGCCCGGAC\\n', 'TGGGAACCTGCGGGCAGTAGGTGGAAT']\n"
     ]
    }
   ],
   "source": [
    "# open the DNA Sequence text file and extract data from it.\n",
    "with open(\"GC.txt\") as Data_file:\n",
    "    Data = Data_file.readlines()\n",
    "print(Data)"
   ]
  },
  {
   "cell_type": "code",
   "execution_count": 11,
   "id": "3a129527-25b8-4a65-9302-020855e7498f",
   "metadata": {},
   "outputs": [
    {
     "name": "stdout",
     "output_type": "stream",
     "text": [
      "{'Rosalind_6404': 'CCTGCGGAAGATCGGCACTAGAATAGCCAGAACCGTTTCTCTGAGGCTTCCGGCCTTCCCTCCCACTAATAATTCTGAGG', 'Rosalind_5959': 'CCATCGGTAGCGCATCCTTAGTCCAATTAAGTCCCTATCCAGGCGCTCCGCCGAAGGTCTATATCCATTTGTCAGCAGACACGC', 'Rosalind_0808': 'CCACCCTCGTGGTATGGCTAGGCATTCAGGAACCGGAGAACGCTTCAGACCAGCCCGGACTGGGAACCTGCGGGCAGTAGGTGGAAT'}\n"
     ]
    }
   ],
   "source": [
    "# We can format FASTA data in a dictionary\n",
    "IDs_num = 0\n",
    "DNA_strings = dict()\n",
    "for line in Data:\n",
    "    if line.startswith(\">\"):\n",
    "        IDs_num += 1\n",
    "        ID = line.strip()[1:]\n",
    "        DNA_strings[ID] = \"\"\n",
    "    else:\n",
    "        DNA_strings[ID] += line.strip()\n",
    "#  dictionary( keys :the rosalind ID, values: the specific DNA sequence for each Rosalind ID)\n",
    "print(DNA_strings)"
   ]
  },
  {
   "cell_type": "code",
   "execution_count": 8,
   "id": "9c018fdb-5fb8-499d-9d61-15f990ae8019",
   "metadata": {},
   "outputs": [
    {
     "name": "stdout",
     "output_type": "stream",
     "text": [
      "{'Rosalind_6404': 53.75, 'Rosalind_5959': 53.571429, 'Rosalind_0808': 60.91954}\n"
     ]
    }
   ],
   "source": [
    "# calculate the GC percentage in each unique sequence and store them in a dictionary\n",
    "GC_dic = dict()\n",
    "for ID in DNA_strings.keys():\n",
    "    GC_content = 0\n",
    "    for nuc in DNA_strings[ID]:\n",
    "        if nuc.upper() == \"G\" or nuc.upper() == \"C\":\n",
    "            GC_content += 1\n",
    "    GC_dic[ID] = round(GC_content / len(DNA_strings[ID]) * 100, 6)\n",
    "print(GC_dic)"
   ]
  },
  {
   "cell_type": "code",
   "execution_count": 9,
   "id": "5c6cd2a9-8aa1-4705-8c90-37597b549686",
   "metadata": {},
   "outputs": [
    {
     "name": "stdout",
     "output_type": "stream",
     "text": [
      "The highest GC percent is located in: Rosalind_0808\n",
      "Its GC percent is: 60.91954%\n"
     ]
    }
   ],
   "source": [
    "# finding the highest GC percent and print it out\n",
    "max_GC_perc = max(GC_dic.values())\n",
    "for ID in GC_dic.keys():\n",
    "    if GC_dic[ID] == max_GC_perc:\n",
    "        print(\"The highest GC percent is located in:\", ID)\n",
    "        print(\"Its GC percent is: \", GC_dic[ID], \"%\", sep=\"\")\n",
    "        break"
   ]
  },
  {
   "cell_type": "code",
   "execution_count": null,
   "id": "f807038a-6cb7-4683-a5c0-439168d726a9",
   "metadata": {},
   "outputs": [],
   "source": []
  }
 ],
 "metadata": {
  "kernelspec": {
   "display_name": "Python 3 (ipykernel)",
   "language": "python",
   "name": "python3"
  },
  "language_info": {
   "codemirror_mode": {
    "name": "ipython",
    "version": 3
   },
   "file_extension": ".py",
   "mimetype": "text/x-python",
   "name": "python",
   "nbconvert_exporter": "python",
   "pygments_lexer": "ipython3",
   "version": "3.11.7"
  }
 },
 "nbformat": 4,
 "nbformat_minor": 5
}
